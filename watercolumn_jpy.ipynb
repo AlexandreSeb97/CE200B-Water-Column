{
 "cells": [
  {
   "cell_type": "markdown",
   "metadata": {},
   "source": [
    "\n",
    "# Master code for 200B water column (vertical) cases\n",
    "    Original MATLAB code from Lisa Lucas, modified by Tina Chow.\n",
    "    Spring 2018: Mark Stacey and Michaella Chung.\n",
    "    Adapted to Python by Alexandre Georges, Spring 2022.\n"
   ]
  },
  {
   "cell_type": "code",
   "execution_count": 30,
   "metadata": {},
   "outputs": [],
   "source": [
    "import math\n",
    "import numpy as np\n",
    "import matplotlib.pyplot as plt"
   ]
  },
  {
   "cell_type": "markdown",
   "metadata": {},
   "source": [
    "## Define model set up - grid and timestep"
   ]
  },
  {
   "cell_type": "code",
   "execution_count": 31,
   "metadata": {},
   "outputs": [],
   "source": [
    "N=80 # number of grid points\n",
    "H=20 # depth (meters)\n",
    "dz=H/N # grid spacing - may need to adjust to reduce oscillations\n",
    "dt=60 # (seconds) size of time step \n",
    "M=2000 # number of time steps \n",
    "# M=1440; # number of time steps \n",
    "beta = (dt/dz**2)\n",
    "z = np.zeros(N)\n",
    "for i in range(N): # Initialize grid\n",
    "   z[i]=-H+dz*(i) # bottom at z=-H, free surface at 0\n",
    "isave=100 #increments for saving profiles. set to 1 to save all; 10 saves every 10th, etc. \n",
    "savecount=1"
   ]
  },
  {
   "cell_type": "markdown",
   "metadata": {},
   "source": [
    "## Water Column Setup"
   ]
  },
  {
   "cell_type": "markdown",
   "metadata": {},
   "source": [
    "###  Initialize all profiles and closure parameters \n",
    "      Call once before time loop\n",
    "      Sets all forcing: pressure gradients, stresses, etc.\n",
    "      Should be used to adjust initial temperature/salinity profiles\n",
    "      Velocity initialized to zero\n",
    "      Turbulence quantities initialized to \"SMALL\"; Lengthscale parabolic\n"
   ]
  },
  {
   "cell_type": "code",
   "execution_count": 32,
   "metadata": {},
   "outputs": [],
   "source": [
    "\n",
    "# Physical parameters \n",
    "z0=0.01 #bottom roughness [m]\n",
    "zb=10*z0 #bottom height\n",
    "g=9.81 #m^2/s - gravity\n",
    "C_D = 0.0025 #friction coefficient\n",
    "SMALL=1e-6\n",
    "kappa=0.4 #von Karman constant\n",
    "nu=1e-6 #m^2/s kinematic viscosity\n",
    "\n",
    "\n",
    "# Forcing parameters - Need to modify to allow for time variable Px.\n",
    "Px0 = .001 #Magnitude on pressure gradient forcing\n",
    "T_Px = 12.0 #Period (hours) on pressure gradient forcing. Set to 0 for steady\n",
    "\n",
    "# Turbulence closure parameters \n",
    "A1=0.92\n",
    "A2=0.74\n",
    "B1=16.6\n",
    "B2=10.1\n",
    "C1=0.08\n",
    "E1=1.8\n",
    "E2= 1.33\n",
    "E3=0.25\n",
    "Sq=0.2 \n",
    "\n",
    "# Setup initial conditions for scalar and density\n",
    "delC = 5    #change in temperature at initial themocline [deg C]; set to zero for Unstratified Case\n",
    "zdelC = -5  #position of initial thermocline\n",
    "dzdelC = -2 #width of initial thermocline\n",
    "alpha = 0.000214 #thermal expansivity, set to zero for passive scalar case \n",
    "rho0 = 1000      #kg/m^3 - water density\n",
    "C = np.zeros(N)\n",
    "rho = np.zeros(N)\n",
    "N_BV = np.zeros(N)\n",
    "U = np.zeros(N)\n",
    "V = np.zeros(N)\n",
    "\n",
    "for i in range(N):\n",
    "  C[i] = 15\n",
    "  if z[i] <= zdelC - 0.5*dzdelC:\n",
    "    C[i] = 15\n",
    "  elif z[i] >= zdelC + 0.5*dzdelC:\n",
    "    C[i] = 15 + delC\n",
    "  else:\n",
    "    C[i] = 15 + delC*(z[i] - zdelC + 0.5*dzdelC)/dzdelC\n",
    "  rho[i] = rho0*(1 - alpha*(C[i] - 15))  # Single scalar, linear equation of state\n",
    "# Brunt-Vaisala Frequency from density profile\n",
    "N_BV[0] = math.sqrt((-g/rho0)*(rho[1]-rho[0])/(dz))\n",
    "for i in range(1,N-1):\n",
    "  N_BV[i] = math.sqrt((-g/rho0)*(rho[i+1] - rho[i])/(dz))\n",
    "N_BV[N-1] = math.sqrt((-g/rho0)*(rho[N-1] - rho[N-2])/(dz))\n",
    "\n",
    "\n",
    "# Set initial conditions for u, q^2, and other turbulence quantities\n",
    "Up = np.zeros(N)\n",
    "Vp = np.zeros(N)\n",
    "Q2 = SMALL*np.ones(N) # \"seed\" the turbulent field with small values, then let it evolve\n",
    "Q2L = SMALL*np.ones(N)\n",
    "Q = np.zeros(N)\n",
    "L = -kappa*H*(z/H)*(1-(z/H)) # Q2L(n,1)/Q2(n,1) = 1 at initialization\n",
    "Sm = np.zeros(N)\n",
    "Sh = np.zeros(N)\n",
    "nu_t = np.zeros(N)\n",
    "Kq = np.zeros(N)\n",
    "Kz = np.zeros(N)\n",
    "\n",
    "for i in range(N):\n",
    "  if z[i] <= -2:\n",
    "    U[i] = 15\n",
    "  else:\n",
    "    U[i] = 0.1*(z[i] + 2)\n",
    "  Q[i] = math.sqrt(Q2[i])\n",
    "  Gh = -((N_BV[i]*L[i])/(Q[i] + SMALL))**2\n",
    "  Gh = min(Gh, 0.0233)\n",
    "  Gh = max(Gh, -0.28)        \n",
    "  num= B1**(-1/3) - A1*A2*Gh*((B2-3*A2)*(1-6*A1/B1)-3*C1*(B2+6*A1))\n",
    "  dem= (1-3*A2*Gh*(B2+6*A1))*(1-9*A1*A2*Gh)\n",
    "  Sm[i] = num/dem\n",
    "  Sh[i] = A2*(1-6*A1/B1)/(1-3*A2*Gh*(B2+6*A1))\n",
    "  nu_t[i] = Sm[i] * Q[i] * L[i] + nu # Turbulent diffusivity for Q2\n",
    "  Kq[i] = Sq*Q[i]*L[i] + nu # Turbulent viscosity\n",
    "  Kz[i] = Sh[i] * Q[i] * L[i] + nu # Turbulent scalar diffusivity\n",
    "\n",
    "\n",
    "# Pre-define Tridiagonal Arrays - Just in case\n",
    "aC = np.zeros(N)\n",
    "bC = np.zeros(N)\n",
    "cC = np.zeros(N)\n",
    "dC = np.zeros(N)\n",
    "aQ2 = np.zeros(N)\n",
    "bQ2 = np.zeros(N)\n",
    "cQ2 = np.zeros(N)\n",
    "dQ2 = np.zeros(N)\n",
    "aQ2L = np.zeros(N)\n",
    "bQ2L = np.zeros(N)\n",
    "cQ2L = np.zeros(N)\n",
    "dQ2L = np.zeros(N)\n",
    "\n",
    "\n",
    "#  Save initial conditions as first columns in saved matrix\n",
    "n_profiles = int(M/isave)\n",
    "Cm = np.zeros((N,n_profiles))\n",
    "Q2m = np.zeros((N,n_profiles))\n",
    "Q2Lm = np.zeros((N,n_profiles))\n",
    "rhom = np.zeros((N,n_profiles))\n",
    "Lm = np.zeros((N,n_profiles))\n",
    "nu_tm = np.zeros((N,n_profiles))\n",
    "Kzm = np.zeros((N,n_profiles))\n",
    "Kqm = np.zeros((N,n_profiles))\n",
    "N_BVm = np.zeros((N,n_profiles))\n",
    "\n",
    "Cm[:,1] = C\n",
    "Q2m[:,1] = Q2\n",
    "Q2Lm[:,1] = Q2L\n",
    "rhom[:,1] = rho\n",
    "Lm[:,1] = L\n",
    "nu_tm[:,1] = nu_t\n",
    "Kzm[:,1] = Kz\n",
    "Kqm[:,1] = Kq\n",
    "N_BVm[:,1] = N_BV"
   ]
  },
  {
   "cell_type": "markdown",
   "metadata": {},
   "source": [
    "## Time-advancing algorithm\n",
    "    Steps a single timestep for c, rho, q2, q2l, l, kz, nu_t, kq\n",
    "    All diffusion/viscous terms handled implicitly"
   ]
  },
  {
   "cell_type": "markdown",
   "metadata": {},
   "source": [
    "TDMA Solver"
   ]
  },
  {
   "cell_type": "code",
   "execution_count": 33,
   "metadata": {},
   "outputs": [],
   "source": [
    "def TDMA(aX, bX, cX, dX, N):\n",
    "    x = np.zeros(N)\n",
    "    for i in range(1, N):\n",
    "        bX[i] = bX[i] - aX[i]/bX[i-1]*cX[i-1]\n",
    "        dX[i] = dX[i] - aX[i]/bX[i-1]*dX[i-1]\n",
    "    x[-1] = dX[-1]/bX[-1]\n",
    "    for i in range(N-2, -1, -1):\n",
    "        x[i] = (1/bX[i])*(dX[i] - cX[i]*x[i+1])\n",
    "    return x"
   ]
  },
  {
   "cell_type": "markdown",
   "metadata": {},
   "source": [
    "Time-Advancement"
   ]
  },
  {
   "cell_type": "code",
   "execution_count": 34,
   "metadata": {},
   "outputs": [],
   "source": [
    "def wc_advance(U, C, Q2, Q2L, rho, L, nu_t, Kz, Kq, N_BV):\n",
    "    Px = np.zeros(N)\n",
    "    #  Update pressure forcing term for the current timestep\n",
    "    for i in range(N):\n",
    "        if T_Px == 0.0:\n",
    "            Px[i] = Px0  # Steady and constant forcing for now\n",
    "        else:\n",
    "            Px[i] = Px0*math.cos(2*math.pi*t[m]/(3600.*T_Px))\n",
    "\n",
    "    #Update shear velocity at bottom boundary for use later\n",
    "    ustar = abs(U[1])*math.sqrt(C_D); # Explicit dependence on C_D\n",
    "\n",
    "\n",
    "    # Update parameters for the model, Sm and Sh\n",
    "\n",
    "    for i in range(N):\t\t\n",
    "        Gh=-(N_BV[i]*L[i]/(Q[i]+SMALL))**2 \n",
    "        # set LIMITER for Gh \n",
    "        Gh=min(Gh, 0.0233)\n",
    "        Gh=max(Gh, -0.28)\n",
    "        num=B1**(-1/3)-A1*A2*Gh*((B2-3*A2)*(1-6*A1/B1)-3*C1*(B2+6*A1))\n",
    "        dem=(1-3*A2*Gh*(B2+6*A1))*(1-9*A1*A2*Gh)\n",
    "        Sm[i]=num/dem\n",
    "        Sh[i]=A2*(1-6*A1/B1)/(1-3*A2*Gh*(B2+6*A1)) \n",
    "\n",
    "\n",
    "    #  Place previous variable f into fp (i.e. q2 into q2p, etc)\n",
    "    Cp = C\n",
    "    Q2p = Q2\n",
    "    Q2Lp = Q2L\n",
    "    Lp = L\n",
    "    Kzp = Kz\n",
    "    nu_tp = nu_t\n",
    "    Kqp = Kq\n",
    "    N_BVp = N_BV\n",
    "\n",
    "\n",
    "    # Advance scalars/density (C, rho) \n",
    "    for i in range(1, N-1):\n",
    "        aC[i] = -0.5*beta*(Kzp[i] + Kzp[i-1])\n",
    "        bC[i] = 1+0.5*beta*(Kzp[i+1] + 2*Kzp[i+1] + Kzp[i-1])\n",
    "        cC[i] = -0.5*beta*(Kzp[i] + Kzp[i+1])\n",
    "        dC[i] = Cp[i]\n",
    "    # Bottom-Boundary: no flux for scalars\n",
    "    bC[0] = 1+0.5*beta*(Kzp[1] + Kzp[0])\n",
    "    cC[0] = -0.5*beta*(Kzp[1] + Kzp[0])\n",
    "    dC[0] =  Cp[0]\n",
    "    # Top-Boundary: no flux for scalars\n",
    "    aC[-1] = -0.5*beta*(Kzp[-1] + Kzp[N-2])\n",
    "    bC[-1] = 1+0.5*beta*(Kzp[-1] + Kzp[N-2])\n",
    "    dC[-1] = Cp[-1]\n",
    "    # TDMA to solve for C\n",
    "    C = TDMA(aC, bC, cC, dC, N)\n",
    "    #update density and Brunt-Vaisala frequency\n",
    "    for i in range(N):\n",
    "        rho[i] = rho0*(1-alpha*(C[i] - 15))\n",
    "    N_BV[0] = math.sqrt(abs(((-g/rho0)*(rho[1]-rho[0])/dz)))\n",
    "    for i in range(1, N-1):\n",
    "        N_BV[i] = math.sqrt(abs((-g/rho0)*(rho[i+1] - rho[i-1])/(2*dz)))\n",
    "    N_BV[-1] = math.sqrt(abs((-g/rho0)*(rho[-1] - rho[N-2])/dz))\n",
    "\n",
    "\n",
    "    #  Advance turbulence parameters (q2, q2l - q2 first, then q2l)\n",
    "    for i in range(1, N-1):\n",
    "            diss = (2 * dt *(Q2p[i]**0.5))/(B1*Lp[i]) # Coefficient for linearized term\n",
    "            aQ2[i] = -0.5*beta*(Kqp[i] + Kqp[i-1])\n",
    "            bQ2[i] = 1+0.5*beta*(Kqp[i+1] + 2*Kqp[i] + Kqp[i-1]) + diss\n",
    "            cQ2[i] = -0.5*beta*(Kqp[i] + Kqp[i+1])\n",
    "            dQ2[i] = Q2p[i] + 0.25*beta*nu_tp[i]*(Up[i+1]-Up[i-1])**2 -dt*Kzp[i]*(N_BVp[i]**2)\n",
    "    # Bottom-Boundary Condition \n",
    "    Q2bot = B1**(2/3) * ustar**2\n",
    "    bdryterm = 0.5*beta*Kqp[0]*Q2bot\n",
    "    diss =  2 * dt *((Q2p[0]**0.5)/(B1*Lp[0]))\n",
    "    bQ2[0] = 1+0.5*beta*(Kqp[1] + Kqp[0]) + diss\n",
    "    cQ2[0] = -0.5*beta*(Kqp[1] + Kqp[0])\n",
    "    dQ2[0] = Q2p[0] + dt*((ustar**4)/nu_tp[0]) - dt*Kzp[0]*(N_BVp[0]**2) + bdryterm\n",
    "    # Top-Boundary Condition\n",
    "    diss =  2 * dt *((Q2p[-1]**0.5)/(B1*Lp[-1]))\n",
    "    aQ2[-1] = -0.5*beta*(Kqp[-1] + Kqp[N-2])\n",
    "    bQ2[-1] = 1+0.5*beta*(Kqp[-1] + 2*Kqp[-1] + Kq[N-2]) + diss\n",
    "    dQ2[-1] = Q2p[-1] + 0.25*beta*nu_tp[-1]*((Up[-1] - Up[N-2])**2) -4*dt*Kzp[-1]*(N_BVp[-1]**2)\n",
    "    # TDMA to solve for q2\n",
    "    Q2 = TDMA(aQ2, bQ2, cQ2, dQ2, N)\n",
    "    # Kluge to prevent negative values from causing instabilities\n",
    "    for i in range(N):\n",
    "        if Q2[i] < SMALL:\n",
    "            Q2[i] = SMALL\n",
    "\n",
    "    for i in range(1, N-1):\n",
    "            diss = 2*dt*((Q2p[i]**0.5) / (B1*Lp[i]))*(1+E2*(Lp[i]/(kappa*abs(-H-z[i])))**2 + E3*(Lp[i]/(kappa*abs(z[i])))**2)\n",
    "            aQ2L[i] = -0.5*beta*(Kqp[i] + Kqp[i-1])\n",
    "            bQ2L[i] = 1+0.5*beta*(Kqp[i+1] + 2*Kqp[i] + Kqp[i-1]) + diss\n",
    "            cQ2L[i] = -0.5*beta*(Kqp[i] + Kqp[i+1])\n",
    "            dQ2L[i] = Q2Lp[i] + 0.25*beta*nu_tp[i]*E1*Lp[i]*(Up[i+1]-Up[i-1])**2 - 2*dt*Lp[i]*E1*Kzp[i]*(N_BVp[i]**2)\n",
    "    # Bottom-Boundary Condition\n",
    "    q2lbot = B1**(2/3) * (ustar**2) * kappa * zb\n",
    "    bdryterm = 0.5*beta*Kqp[0]*q2lbot\n",
    "    diss =  2 * dt *(Q2p[0]**0.5)/(B1*Lp[0])*(1+E2*(Lp[0]/(kappa*abs(-H-z[0])))**2 + E3*(Lp[0]/(kappa*abs(z[0])))**2)\n",
    "    bQ2L[0] = 1+0.5*beta*(Kqp[1] + Kqp[0]) + diss\n",
    "    cQ2L[0] = -0.5*beta*(Kqp[1] + Kqp[0])\n",
    "    dQ2L[0] = Q2Lp[0] + dt*((ustar**4)/nu_tp[0])*E1*Lp[0] - dt*Lp[0]*E1*Kzp[0]*(N_BVp[0]**2) + bdryterm\n",
    "    # Top-Boundary Condition\n",
    "    diss =  2 * dt *(Q2p[-1]**0.5)/(B1*Lp[-1])*(1+E2*(Lp[-1]/(kappa*abs(-H-z[-1])))**2 + E3*(Lp[-1]/(kappa*abs(z[-1])))**2)\n",
    "    aQ2L[-1] = -0.5*beta*(Kqp[-1] + Kqp[N-2])\n",
    "    bQ2L[-1] = 1+0.5*beta*(Kqp[-1] + 2*Kqp[-1] + Kqp[N-2]) + diss # Are we using kq or kqp here?\n",
    "    dQ2L[-1] = Q2Lp[-1] + 0.25*beta*nu_tp[-1]*E1*Lp[-1]*(Up[-1]-Up[N-2])**2 - 2*dt*Lp[-1]*E1*Kzp[-1]*(N_BVp[-1]**2)\n",
    "    # TDMA to solve for q2\n",
    "    Q2L = TDMA(aQ2L, bQ2L, cQ2L, dQ2L, N)\n",
    "    # Making sure to prevent negative values\n",
    "    for i in range(N):\n",
    "        if Q2L[i] < SMALL:\n",
    "            Q2L[i] = SMALL\n",
    "\n",
    "    #  Calculate turbulent lengthscale (l) and mixing coefficients (kz, nu_t, kq)\n",
    "    #     Works will all updated values \n",
    "    for i in range(N):\n",
    "            Q[i] = math.sqrt(Q2[i])\n",
    "            L[i] = Q2L[i]/(Q2[i] + SMALL)\n",
    "            # Limit due to stable stratification\n",
    "            if (L[i]**2)*(N_BV[i]**2) > 0.281*Q2[i]:\n",
    "                # Adjust Q2L as well as L\n",
    "                Q2L[i] = Q2[i]*math.sqrt(0.281*Q2[i]/(N_BV[i]**2 + SMALL))\n",
    "                L[i] = Q2L[i] / Q2[i]\n",
    "\n",
    "            # Keep L from becoming zero -- zb=bottom roughness parameter\n",
    "            if abs(L[i]) < zb:\n",
    "                L[i] = zb\n",
    "            # Update diffusivities \n",
    "            Kq[i] = Sq*Q[i]*L[i] + nu\n",
    "            nu_t[i] = Sm[i]*Q[i]*L[i] + nu\n",
    "            Kz[i] = Sh[i]*Q[i]*L[i] + nu\n",
    "    return U, C, Q2, Q2L, rho, L, nu_t, Kz, Kq, N_BV"
   ]
  },
  {
   "cell_type": "markdown",
   "metadata": {},
   "source": [
    "## Time-Advancement Loop"
   ]
  },
  {
   "cell_type": "markdown",
   "metadata": {},
   "source": [
    "### Start of time loop and Saving Profiles - isave defines decimation"
   ]
  },
  {
   "cell_type": "code",
   "execution_count": 35,
   "metadata": {},
   "outputs": [
    {
     "name": "stderr",
     "output_type": "stream",
     "text": [
      "C:\\Users\\erich\\AppData\\Local\\Temp/ipykernel_13392/971419664.py:98: RuntimeWarning: divide by zero encountered in double_scalars\n",
      "  diss =  2 * dt *(Q2p[0]**0.5)/(B1*Lp[0])*(1+E2*(Lp[0]/(kappa*abs(-H-z[0])))**2 + E3*(Lp[0]/(kappa*abs(z[0])))**2)\n"
     ]
    }
   ],
   "source": [
    "t = np.zeros(M)\n",
    "for m in range(1,M):\n",
    "   t[m]=dt*(m-1) #define time\n",
    "   # Because of how Python handles variables compared to MATLAB, we pass the variables as arguments and get them returned\n",
    "   [U, C, Q2, Q2L, rho, L, nu_t, Kz, Kq, N_BV] = wc_advance(U, C, Q2, Q2L, rho, L, nu_t, Kz, Kq, N_BV) #uses BGO/Mellor-Yamada 2-equation closure\n",
    "   if m % isave == 0:\n",
    "      Cm[:,savecount] = C\n",
    "      Q2m[:,savecount] = Q2\n",
    "      Q2Lm[:,savecount] = Q2L\n",
    "      rhom[:,savecount] = rho\n",
    "      Lm[:,savecount] = L\n",
    "      nu_tm[:,savecount] = nu_t\n",
    "      Kzm[:,savecount] = Kz\n",
    "      Kqm[:,savecount] = Kq\n",
    "      N_BVm[:,savecount] = N_BV\n",
    "      savecount += 1 # Because of how Python handles identation compared to Matlab, \n",
    "                     #savecount starts at 1 (instead of 0) and only gets incremented at the end of the step\n",
    "savecount = 1"
   ]
  },
  {
   "cell_type": "markdown",
   "metadata": {},
   "source": [
    "### Plotting follows here\n",
    "    columns of variable matrices (Um, Cm, etc) vs. z array"
   ]
  },
  {
   "cell_type": "code",
   "execution_count": 40,
   "metadata": {},
   "outputs": [
    {
     "name": "stdout",
     "output_type": "stream",
     "text": [
      "Plotting...\n"
     ]
    },
    {
     "data": {
      "image/png": "[encoded data removed]",
      "text/plain": [
       "<Figure size 432x288 with 1 Axes>"
      ]
     },
     "metadata": {
      "needs_background": "light"
     },
     "output_type": "display_data"
    }
   ],
   "source": [
    "print('Plotting...')\n",
    "#plt.plot(Um[:,1], z)\n",
    "for i in range(len(nu_tm[0])):\n",
    "    plt.plot(z, nu_tm[:,i])"
   ]
  }
 ],
 "metadata": {
  "interpreter": {
   "hash": "9469128330f806a7ea1d2776d365450f01d64ef41807c8cc111bff32cae1bab4"
  },
  "kernelspec": {
   "display_name": "Python 3.9.9 64-bit",
   "language": "python",
   "name": "python3"
  },
  "language_info": {
   "codemirror_mode": {
    "name": "ipython",
    "version": 3
   },
   "file_extension": ".py",
   "mimetype": "text/x-python",
   "name": "python",
   "nbconvert_exporter": "python",
   "pygments_lexer": "ipython3",
   "version": "3.9.9"
  },
  "orig_nbformat": 4
 },
 "nbformat": 4,
 "nbformat_minor": 2
}
